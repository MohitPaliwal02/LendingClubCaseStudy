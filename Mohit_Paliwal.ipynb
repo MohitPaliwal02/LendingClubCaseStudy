{
 "cells": [
  {
   "cell_type": "code",
   "execution_count": 286,
   "id": "27c1e46c",
   "metadata": {},
   "outputs": [],
   "source": [
    "# importing the required libraries\n",
    "import pandas as pd\n",
    "import matplotlib.pyplot as plt"
   ]
  },
  {
   "cell_type": "markdown",
   "id": "fabbd0a2",
   "metadata": {},
   "source": [
    "# Reading the Data"
   ]
  },
  {
   "cell_type": "code",
   "execution_count": 313,
   "id": "755ef0df",
   "metadata": {},
   "outputs": [
    {
     "name": "stderr",
     "output_type": "stream",
     "text": [
      "C:\\Users\\ADMIN\\anaconda3\\lib\\site-packages\\IPython\\core\\interactiveshell.py:3444: DtypeWarning: Columns (47) have mixed types.Specify dtype option on import or set low_memory=False.\n",
      "  exec(code_obj, self.user_global_ns, self.user_ns)\n"
     ]
    }
   ],
   "source": [
    "# reading the loan dataset\n",
    "loan_data = pd.read_csv('loan.csv') "
   ]
  },
  {
   "cell_type": "markdown",
   "id": "df52cd7b",
   "metadata": {},
   "source": [
    "# Data Cleaning"
   ]
  },
  {
   "cell_type": "code",
   "execution_count": 288,
   "id": "e94cf2c0",
   "metadata": {},
   "outputs": [],
   "source": [
    "# dropping the duplicates if any\n",
    "loan_data.dropna(axis=1, inplace=True)"
   ]
  },
  {
   "cell_type": "code",
   "execution_count": 289,
   "id": "81e44c30",
   "metadata": {},
   "outputs": [],
   "source": [
    "# dropping the columns with values as 0 or empty string for more than 60%\n",
    "loan_data = loan_data.loc[:, loan_data.isin([' ',0]).mean() < .6]\n"
   ]
  },
  {
   "cell_type": "code",
   "execution_count": 290,
   "id": "4a8babf4",
   "metadata": {},
   "outputs": [],
   "source": [
    "# dropping the columns with only one unique value\n",
    "nunique = loan_data.nunique()\n",
    "cols_to_drop = nunique[nunique == 1].index\n",
    "loan_data.drop(cols_to_drop, axis=1, inplace=True)"
   ]
  },
  {
   "cell_type": "code",
   "execution_count": 291,
   "id": "f6e0629c",
   "metadata": {},
   "outputs": [
    {
     "data": {
      "text/plain": [
       "(39717, 30)"
      ]
     },
     "execution_count": 291,
     "metadata": {},
     "output_type": "execute_result"
    }
   ],
   "source": [
    "loan_data.shape"
   ]
  },
  {
   "cell_type": "code",
   "execution_count": 292,
   "id": "134e1d89",
   "metadata": {},
   "outputs": [
    {
     "name": "stdout",
     "output_type": "stream",
     "text": [
      "<class 'pandas.core.frame.DataFrame'>\n",
      "RangeIndex: 39717 entries, 0 to 39716\n",
      "Data columns (total 30 columns):\n",
      " #   Column               Non-Null Count  Dtype  \n",
      "---  ------               --------------  -----  \n",
      " 0   id                   39717 non-null  int64  \n",
      " 1   member_id            39717 non-null  int64  \n",
      " 2   loan_amnt            39717 non-null  int64  \n",
      " 3   funded_amnt          39717 non-null  int64  \n",
      " 4   funded_amnt_inv      39717 non-null  float64\n",
      " 5   term                 39717 non-null  object \n",
      " 6   int_rate             39717 non-null  object \n",
      " 7   installment          39717 non-null  float64\n",
      " 8   grade                39717 non-null  object \n",
      " 9   sub_grade            39717 non-null  object \n",
      " 10  home_ownership       39717 non-null  object \n",
      " 11  annual_inc           39717 non-null  float64\n",
      " 12  verification_status  39717 non-null  object \n",
      " 13  issue_d              39717 non-null  object \n",
      " 14  loan_status          39717 non-null  object \n",
      " 15  url                  39717 non-null  object \n",
      " 16  purpose              39717 non-null  object \n",
      " 17  zip_code             39717 non-null  object \n",
      " 18  addr_state           39717 non-null  object \n",
      " 19  dti                  39717 non-null  float64\n",
      " 20  earliest_cr_line     39717 non-null  object \n",
      " 21  inq_last_6mths       39717 non-null  int64  \n",
      " 22  open_acc             39717 non-null  int64  \n",
      " 23  revol_bal            39717 non-null  int64  \n",
      " 24  total_acc            39717 non-null  int64  \n",
      " 25  total_pymnt          39717 non-null  float64\n",
      " 26  total_pymnt_inv      39717 non-null  float64\n",
      " 27  total_rec_prncp      39717 non-null  float64\n",
      " 28  total_rec_int        39717 non-null  float64\n",
      " 29  last_pymnt_amnt      39717 non-null  float64\n",
      "dtypes: float64(9), int64(8), object(13)\n",
      "memory usage: 9.1+ MB\n"
     ]
    }
   ],
   "source": [
    "# info about the dataset\n",
    "loan_data.info()"
   ]
  },
  {
   "cell_type": "code",
   "execution_count": 293,
   "id": "03beefb9",
   "metadata": {},
   "outputs": [
    {
     "data": {
      "text/plain": [
       "(38577, 30)"
      ]
     },
     "execution_count": 293,
     "metadata": {},
     "output_type": "execute_result"
    }
   ],
   "source": [
    "# Removing the rows where loan status is current\n",
    "loan_data = loan_data[loan_data.loan_status.isin(['Fully Paid', 'Charged Off'])]\n"
   ]
  },
  {
   "cell_type": "markdown",
   "id": "57cf8911",
   "metadata": {},
   "source": [
    "# Univariate Analysis"
   ]
  },
  {
   "cell_type": "code",
   "execution_count": 309,
   "id": "04e1a770",
   "metadata": {},
   "outputs": [
    {
     "data": {
      "image/png": "[encoded data removed]",
      "text/plain": [
       "<Figure size 432x288 with 1 Axes>"
      ]
     },
     "metadata": {
      "needs_background": "light"
     },
     "output_type": "display_data"
    }
   ],
   "source": [
    "plt.bar(loan_data.loan_status, loan_data.loan_amnt)\n",
    "plt.show()"
   ]
  },
  {
   "cell_type": "code",
   "execution_count": 310,
   "id": "2b73f97f",
   "metadata": {},
   "outputs": [
    {
     "data": {
      "image/png": "[encoded data removed]",
      "text/plain": [
       "<Figure size 432x288 with 1 Axes>"
      ]
     },
     "metadata": {
      "needs_background": "light"
     },
     "output_type": "display_data"
    }
   ],
   "source": [
    "plt.bar(loan_data.loan_status, loan_data.int_rate)\n",
    "plt.show()"
   ]
  },
  {
   "cell_type": "code",
   "execution_count": 311,
   "id": "2d6d30f5",
   "metadata": {},
   "outputs": [
    {
     "data": {
      "image/png": "[encoded data removed]",
      "text/plain": [
       "<Figure size 432x288 with 1 Axes>"
      ]
     },
     "metadata": {
      "needs_background": "light"
     },
     "output_type": "display_data"
    }
   ],
   "source": [
    "plt.bar(loan_data.loan_status, loan_data.home_ownership)\n",
    "plt.show()"
   ]
  },
  {
   "cell_type": "code",
   "execution_count": 312,
   "id": "287103a2",
   "metadata": {},
   "outputs": [
    {
     "data": {
      "image/png": "[encoded data removed]",
      "text/plain": [
       "<Figure size 432x288 with 1 Axes>"
      ]
     },
     "metadata": {
      "needs_background": "light"
     },
     "output_type": "display_data"
    }
   ],
   "source": [
    "plt.bar(loan_data.loan_status, loan_data.annual_inc)\n",
    "plt.show()"
   ]
  },
  {
   "cell_type": "code",
   "execution_count": null,
   "id": "a413786c",
   "metadata": {},
   "outputs": [],
   "source": []
  }
 ],
 "metadata": {
  "kernelspec": {
   "display_name": "Python 3 (ipykernel)",
   "language": "python",
   "name": "python3"
  },
  "language_info": {
   "codemirror_mode": {
    "name": "ipython",
    "version": 3
   },
   "file_extension": ".py",
   "mimetype": "text/x-python",
   "name": "python",
   "nbconvert_exporter": "python",
   "pygments_lexer": "ipython3",
   "version": "3.9.7"
  }
 },
 "nbformat": 4,
 "nbformat_minor": 5
}
